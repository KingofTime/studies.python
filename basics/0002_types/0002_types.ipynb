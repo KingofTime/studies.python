{
 "cells": [
  {
   "metadata": {},
   "cell_type": "markdown",
   "source": [
    "### Como funcionam as variáveis?\n",
    "Ao atribuirmos um valor a uma variável estamos armazenando um valor na memória RAM e criando uma \"etiqueta\" para a localização desse valor.\n",
    "<img src=\"https://prog-geo.github.io/_images/variaveis.png\">\n",
    "_Todos os créditos da imagem para https://prog-geo.github.io/_"
   ],
   "id": "c8c0f8193196409a"
  },
  {
   "metadata": {
    "ExecuteTime": {
     "end_time": "2025-05-10T04:40:07.988543Z",
     "start_time": "2025-05-10T04:40:07.986202Z"
    }
   },
   "cell_type": "code",
   "source": [
    "# Toda variável tem um tipo, podemos armazenar números inteiros, textos(strings), números decimais, entre outros.\n",
    "# Cada tipo tem propriedade diferentes e comportamentos diferentes.\n",
    "idade = 27\n",
    "nome = \"Alameda Slim\" #Pode ter aspas simples ou duplas\n",
    "salario = 1000.00"
   ],
   "id": "896b45a7b52e807c",
   "outputs": [],
   "execution_count": 4
  },
  {
   "metadata": {
    "ExecuteTime": {
     "end_time": "2025-05-10T04:40:12.910961Z",
     "start_time": "2025-05-10T04:40:12.908099Z"
    }
   },
   "cell_type": "code",
   "source": [
    "# Existe uma função que retornna o tipo de um valor\n",
    "\n",
    "print(type(idade))\n",
    "print(type(nome))\n",
    "print(type(salario))"
   ],
   "id": "5d16037fcae4f4ad",
   "outputs": [
    {
     "name": "stdout",
     "output_type": "stream",
     "text": [
      "<class 'int'>\n",
      "<class 'str'>\n",
      "<class 'float'>\n"
     ]
    }
   ],
   "execution_count": 5
  },
  {
   "metadata": {
    "ExecuteTime": {
     "end_time": "2025-05-10T04:43:40.272172Z",
     "start_time": "2025-05-10T04:43:40.269582Z"
    }
   },
   "cell_type": "code",
   "source": [
    "# Podemos visualizar as propriedades que cada tipo tem usando a função dir\n",
    "\n",
    "print(dir(nome))\n"
   ],
   "id": "1e7903d4bbe78ca1",
   "outputs": [
    {
     "name": "stdout",
     "output_type": "stream",
     "text": [
      "['__add__', '__class__', '__contains__', '__delattr__', '__dir__', '__doc__', '__eq__', '__format__', '__ge__', '__getattribute__', '__getitem__', '__getnewargs__', '__getstate__', '__gt__', '__hash__', '__init__', '__init_subclass__', '__iter__', '__le__', '__len__', '__lt__', '__mod__', '__mul__', '__ne__', '__new__', '__reduce__', '__reduce_ex__', '__repr__', '__rmod__', '__rmul__', '__setattr__', '__sizeof__', '__str__', '__subclasshook__', 'capitalize', 'casefold', 'center', 'count', 'encode', 'endswith', 'expandtabs', 'find', 'format', 'format_map', 'index', 'isalnum', 'isalpha', 'isascii', 'isdecimal', 'isdigit', 'isidentifier', 'islower', 'isnumeric', 'isprintable', 'isspace', 'istitle', 'isupper', 'join', 'ljust', 'lower', 'lstrip', 'maketrans', 'partition', 'removeprefix', 'removesuffix', 'replace', 'rfind', 'rindex', 'rjust', 'rpartition', 'rsplit', 'rstrip', 'split', 'splitlines', 'startswith', 'strip', 'swapcase', 'title', 'translate', 'upper', 'zfill']\n"
     ]
    }
   ],
   "execution_count": 8
  },
  {
   "metadata": {
    "ExecuteTime": {
     "end_time": "2025-05-10T04:44:34.032053Z",
     "start_time": "2025-05-10T04:44:34.029603Z"
    }
   },
   "cell_type": "code",
   "source": [
    "# Exemplo: Método upper / lower\n",
    "\n",
    "print(nome.upper())\n",
    "print(nome.lower())"
   ],
   "id": "2da79d107bb12bff",
   "outputs": [
    {
     "name": "stdout",
     "output_type": "stream",
     "text": [
      "ALAMEDA SLIM\n",
      "alameda slim\n"
     ]
    }
   ],
   "execution_count": 10
  },
  {
   "metadata": {
    "ExecuteTime": {
     "end_time": "2025-05-10T04:45:38.492197Z",
     "start_time": "2025-05-10T04:45:38.489425Z"
    }
   },
   "cell_type": "code",
   "source": [
    "#Podemos pedir uma ajuda ao python para saber mais sobre uma propriedade usando o help\n",
    "\n",
    "help(nome.upper)"
   ],
   "id": "6de93cfe993512e3",
   "outputs": [
    {
     "name": "stdout",
     "output_type": "stream",
     "text": [
      "Help on built-in function upper:\n",
      "\n",
      "upper() method of builtins.str instance\n",
      "    Return a copy of the string converted to uppercase.\n",
      "\n"
     ]
    }
   ],
   "execution_count": 12
  },
  {
   "metadata": {},
   "cell_type": "markdown",
   "source": [
    "### Tipos Numéricos\n",
    "- Números inteiros, seja na base decimal, binária, octal ou hexadecimal\n",
    "- Números de ponto flutuante\n",
    "- Números complexos\n",
    "\n",
    "#### Operações aritméticas\n",
    "(+) Soma\n",
    "\n",
    "(-) Subtração\n",
    "\n",
    "(*) Multiplicação\n",
    "\n",
    "(/) Divisão\n",
    "\n",
    "(//) Divisão inteira\n",
    "\n",
    "(**) Potência\n",
    "\n",
    "(%) Resto da divisão"
   ],
   "id": "9b6bef7723ddef06"
  },
  {
   "metadata": {
    "ExecuteTime": {
     "end_time": "2025-05-10T04:57:44.400557Z",
     "start_time": "2025-05-10T04:57:44.397144Z"
    }
   },
   "cell_type": "code",
   "source": [
    "print(type(4)) # Inteiro - Decimal\n",
    "print(type(0b0100)) # Inteiro - Binário\n",
    "print(type(0o12)) # Inteiro - Octal\n",
    "print(type(0xff)) # Inteiro - Hexadecimal\n",
    "print(type(0.35)) # Ponto flutuante\n",
    "print(type(12j)) # Complexo\n",
    "\n",
    "print(2 * 2.5)\n",
    "print(5 / 2)\n",
    "print(5 // 2) # Corta a parte após a virgula\n",
    "print(5 % 2)"
   ],
   "id": "f839086070fa0d91",
   "outputs": [
    {
     "name": "stdout",
     "output_type": "stream",
     "text": [
      "<class 'int'>\n",
      "<class 'int'>\n",
      "<class 'int'>\n",
      "<class 'int'>\n",
      "<class 'float'>\n",
      "<class 'complex'>\n",
      "5.0\n",
      "2.5\n",
      "2\n",
      "1\n"
     ]
    }
   ],
   "execution_count": 17
  },
  {
   "metadata": {
    "ExecuteTime": {
     "end_time": "2025-05-10T06:57:48.351047Z",
     "start_time": "2025-05-10T06:57:48.348539Z"
    }
   },
   "cell_type": "code",
   "source": [
    "# É possivel converter de um tipo para outro usando algumas funções de conversão.\n",
    "\n",
    "print(float(\"1\")) # Converte para float\n",
    "print(int(\"1\")) # Converte para int\n",
    "print(str(1.2)) # Converte para string"
   ],
   "id": "c467e89a03471a4d",
   "outputs": [
    {
     "name": "stdout",
     "output_type": "stream",
     "text": [
      "1.0\n",
      "1\n",
      "1.2\n"
     ]
    }
   ],
   "execution_count": 19
  }
 ],
 "metadata": {
  "kernelspec": {
   "display_name": "Python 3",
   "language": "python",
   "name": "python3"
  },
  "language_info": {
   "codemirror_mode": {
    "name": "ipython",
    "version": 2
   },
   "file_extension": ".py",
   "mimetype": "text/x-python",
   "name": "python",
   "nbconvert_exporter": "python",
   "pygments_lexer": "ipython2",
   "version": "2.7.6"
  }
 },
 "nbformat": 4,
 "nbformat_minor": 5
}
