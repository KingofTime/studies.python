{
 "cells": [
  {
   "metadata": {},
   "cell_type": "markdown",
   "source": [
    "### Estruturas de decisão\n",
    "Dado que já sabemos criar proposições lógicas podemos fazer o programa tomar certas decisões a depender do resultado da proposição.\n",
    "\n",
    "<img src=\"https://apps.univesp.br/novotec/estruturas-de-decisao/assets/diagrama3.png\">\n",
    "\n",
    "| condição   | ação                  |\n",
    "|------------|-----------------------|\n",
    "| V          | \"você passou no teste\"|\n",
    "| F          | \"tente novamente\"     |"
   ],
   "id": "4fdd7d94dba6210"
  },
  {
   "metadata": {},
   "cell_type": "code",
   "outputs": [],
   "execution_count": null,
   "source": [
    "nota = int(input(\"Qual a sua nota?: \"))\n",
    "nota_corte = 6\n",
    "\n",
    "if nota >= nota_corte: # Verifica se a condição é verdadeira\n",
    "    print(\"Você passou no teste\")\n",
    "else: # Caso a condição não seja verdadeira execute o bloco\n",
    "    print(\"Tente novamente\")"
   ],
   "id": "61159fa12d5ffc83"
  },
  {
   "metadata": {
    "ExecuteTime": {
     "end_time": "2025-05-17T08:41:30.920803Z",
     "start_time": "2025-05-17T08:41:28.378199Z"
    }
   },
   "cell_type": "code",
   "source": [
    "# Você pode verificar várias condições em seguida\n",
    "nota = int(input(\"Qual a sua nota?: \"))\n",
    "\n",
    "if nota >= 9:\n",
    "    print(\"Nota A\")\n",
    "elif nota >= 7: # Nota é maior que 7 porém menor que 9?\n",
    "    print(\"Nota B\")\n",
    "elif nota >= 5: # Nota é maior que 5 porém menor que 7?\n",
    "    print(\"Nota C\")\n",
    "else: # Nota não entrou em nenhuma das outras condições = menor que 5\n",
    "    print(\"Nota D\")"
   ],
   "id": "89e521a5a826bfbe",
   "outputs": [
    {
     "name": "stdout",
     "output_type": "stream",
     "text": [
      "Nota B\n"
     ]
    }
   ],
   "execution_count": 2
  }
 ],
 "metadata": {
  "kernelspec": {
   "display_name": "Python 3",
   "language": "python",
   "name": "python3"
  },
  "language_info": {
   "codemirror_mode": {
    "name": "ipython",
    "version": 2
   },
   "file_extension": ".py",
   "mimetype": "text/x-python",
   "name": "python",
   "nbconvert_exporter": "python",
   "pygments_lexer": "ipython2",
   "version": "2.7.6"
  }
 },
 "nbformat": 4,
 "nbformat_minor": 5
}
