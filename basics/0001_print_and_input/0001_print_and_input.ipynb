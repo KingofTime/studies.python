{
 "cells": [
  {
   "cell_type": "code",
   "id": "initial_id",
   "metadata": {
    "collapsed": true,
    "ExecuteTime": {
     "end_time": "2025-05-10T04:00:12.291567Z",
     "start_time": "2025-05-10T04:00:12.289079Z"
    }
   },
   "source": [
    "# Função que imprime uma string na tela\n",
    "# Strings são textos e são representadas por aspas simples ou duplas\n",
    "\n",
    "print(\"Tio Slim!!!\")"
   ],
   "outputs": [
    {
     "name": "stdout",
     "output_type": "stream",
     "text": [
      "Luke, eu sou seu pai!\n"
     ]
    }
   ],
   "execution_count": 9
  },
  {
   "metadata": {
    "ExecuteTime": {
     "end_time": "2025-05-10T04:00:09.647126Z",
     "start_time": "2025-05-10T04:00:09.643663Z"
    }
   },
   "cell_type": "code",
   "source": [
    "# A função insere uma quebra de texto no fim da sua execução\n",
    "print('Os vilões aqui no oeste, são bons cabras da peste')\n",
    "print('Que se acham os doutores do negócio')\n",
    "\n",
    "# Podemos usar \\n para inserir quebras de texto em uma string\n",
    "print(\"Mas sou eu que tiro dez.\\nPois não chegam aos meus pés\")"
   ],
   "id": "acfdbc921429f6a9",
   "outputs": [
    {
     "name": "stdout",
     "output_type": "stream",
     "text": [
      "Os vilões aqui no oeste, são bons cabras da peste\n",
      "Que se acham os doutores do negócio\n",
      "Mas sou eu que tiro dez.\n",
      "Pois não chegam aos meus pés\n"
     ]
    }
   ],
   "execution_count": 8
  },
  {
   "metadata": {
    "ExecuteTime": {
     "end_time": "2025-05-10T03:51:32.660995Z",
     "start_time": "2025-05-10T03:51:28.310238Z"
    }
   },
   "cell_type": "code",
   "source": [
    "# A função input() escreve uma mensagem e espera que você escreva algo\n",
    "# Criamos uma variável nome referenciando o valor recebido\n",
    "nome = input(\"Qual o seu nome?\")\n",
    "\n",
    "# Imprimimos o valor da variável\n",
    "print(nome)"
   ],
   "id": "ea817e4485ce2654",
   "outputs": [
    {
     "name": "stdout",
     "output_type": "stream",
     "text": [
      "Antonio\n"
     ]
    }
   ],
   "execution_count": 7
  },
  {
   "metadata": {
    "ExecuteTime": {
     "end_time": "2025-05-10T04:10:48.705107Z",
     "start_time": "2025-05-10T04:10:42.563127Z"
    }
   },
   "cell_type": "code",
   "source": [
    "# Podemos unir strings de diversas formas.\n",
    "# Chamamos de interpolação de strings quando injetamos variáveis ou expressões em uma string, criando assim strings mais dinâmicas.\n",
    "# Usamos f-strings para interpolar strings\n",
    "\n",
    "nome = input(\"Quem é ocê?\")\n",
    "print(f\"{nome}, o que ocê fez com o tio Slim?\")"
   ],
   "id": "8c79cc2ddd697ab2",
   "outputs": [
    {
     "name": "stdout",
     "output_type": "stream",
     "text": [
      "Antonio, o que ocê fez com o tio Slim?\n"
     ]
    }
   ],
   "execution_count": 10
  }
 ],
 "metadata": {
  "kernelspec": {
   "display_name": "Python 3",
   "language": "python",
   "name": "python3"
  },
  "language_info": {
   "codemirror_mode": {
    "name": "ipython",
    "version": 2
   },
   "file_extension": ".py",
   "mimetype": "text/x-python",
   "name": "python",
   "nbconvert_exporter": "python",
   "pygments_lexer": "ipython2",
   "version": "2.7.6"
  }
 },
 "nbformat": 4,
 "nbformat_minor": 5
}
